{
 "cells": [
  {
   "cell_type": "code",
   "execution_count": 2,
   "id": "01e2095c-261d-4ac8-bedb-ff5db7560594",
   "metadata": {},
   "outputs": [
    {
     "name": "stdout",
     "output_type": "stream",
     "text": [
      "[Errno 2] No such file or directory: '/gpfs3/well/ansari/users/gjx698/BOSON_FACS'\n",
      "/gpfs3/well/ansari/users/gjx698/boson/scripts\n"
     ]
    }
   ],
   "source": [
    "import io\n",
    "import os\n",
    "import pandas as pd\n",
    "import matplotlib.pyplot as plt\n",
    "import numpy as np\n",
    "import scipy as sp\n",
    "# import statsmodels.api as sm\n",
    "import csv\n",
    "# import pycircos\n",
    "from scipy.stats import poisson\n",
    "import itertools\n",
    "import collections\n",
    "import seaborn as sns\n",
    "from jupyter_locuszoom import LocusZoom\n",
    "\n",
    "import FACSus as fs\n",
    "\n",
    "sns.set(style=\"whitegrid\")\n",
    "\n",
    "from PIL import Image, ImageDraw, ImageFont\n",
    "from IPython.display import display\n",
    "%cd /gpfs3/well/ansari/users/gjx698/BOSON_FACS"
   ]
  },
  {
   "cell_type": "code",
   "execution_count": null,
   "id": "63033b26-1c33-4eeb-869d-405e1652aa12",
   "metadata": {},
   "outputs": [],
   "source": []
  },
  {
   "cell_type": "code",
   "execution_count": null,
   "id": "0e97aa18-4b62-4864-85f9-171a41cc0b66",
   "metadata": {},
   "outputs": [],
   "source": []
  },
  {
   "cell_type": "code",
   "execution_count": null,
   "id": "35f2d974-e82c-4663-9016-c8aa2dc981be",
   "metadata": {},
   "outputs": [],
   "source": []
  },
  {
   "cell_type": "code",
   "execution_count": null,
   "id": "98751cca-47b9-4dc0-9cab-69fb43c3ea83",
   "metadata": {},
   "outputs": [],
   "source": []
  },
  {
   "cell_type": "code",
   "execution_count": null,
   "id": "0618e91d-1ecd-4826-9c68-be7ef61e7975",
   "metadata": {},
   "outputs": [],
   "source": [
    "''"
   ]
  },
  {
   "cell_type": "code",
   "execution_count": null,
   "id": "34b9af19-c78f-4ea9-91c3-3940eadb476f",
   "metadata": {},
   "outputs": [],
   "source": []
  },
  {
   "cell_type": "code",
   "execution_count": null,
   "id": "8c1754cd-de1c-4515-a14f-cfbc6b9cffe2",
   "metadata": {},
   "outputs": [],
   "source": []
  },
  {
   "cell_type": "code",
   "execution_count": null,
   "id": "ad0fea93-5b2a-43f7-8373-03804fd2ae23",
   "metadata": {},
   "outputs": [],
   "source": []
  }
 ],
 "metadata": {
  "kernelspec": {
   "display_name": "Python 3 (ipykernel)",
   "language": "python",
   "name": "python3"
  },
  "language_info": {
   "codemirror_mode": {
    "name": "ipython",
    "version": 3
   },
   "file_extension": ".py",
   "mimetype": "text/x-python",
   "name": "python",
   "nbconvert_exporter": "python",
   "pygments_lexer": "ipython3",
   "version": "3.11.0"
  }
 },
 "nbformat": 4,
 "nbformat_minor": 5
}
