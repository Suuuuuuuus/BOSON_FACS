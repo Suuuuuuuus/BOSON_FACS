{
 "cells": [
  {
   "cell_type": "markdown",
   "id": "fa8356b0",
   "metadata": {},
   "source": [
    "__<div align='center'><font size='10'>BOSON FACS</font></div>__"
   ]
  },
  {
   "cell_type": "code",
   "execution_count": 1,
   "id": "2eaa76e7",
   "metadata": {},
   "outputs": [
    {
     "name": "stdout",
     "output_type": "stream",
     "text": [
      "/gpfs3/well/ansari/users/gjx698/BOSON_FACS\n"
     ]
    }
   ],
   "source": [
    "import io\n",
    "import os\n",
    "import pandas as pd\n",
    "import matplotlib.pyplot as plt\n",
    "import numpy as np\n",
    "import scipy as sp\n",
    "# import statsmodels.api as sm\n",
    "import csv\n",
    "# import pycircos\n",
    "from scipy.stats import poisson\n",
    "import itertools\n",
    "import collections\n",
    "import seaborn as sns\n",
    "\n",
    "import FACSus as fs\n",
    "\n",
    "# sns.set(style=\"whitegrid\")\n",
    "%cd /gpfs3/well/ansari/users/gjx698/BOSON_FACS\n",
    "# %cd .."
   ]
  },
  {
   "cell_type": "code",
   "execution_count": 2,
   "id": "c44dff89",
   "metadata": {},
   "outputs": [],
   "source": [
    "df1 = pd.read_csv('facs/Baseline/Panel1_Baseline.csv', sep = ',', dtype = {'Patient ID': 'str'})\n",
    "df2 = pd.read_csv('facs/Baseline/Panel2_Baseline.csv', sep = ',', dtype = {'Patient ID': 'str'})\n",
    "df3 = pd.read_csv('facs/Baseline/Panel3_Baseline.csv', sep = ',', dtype = {'Patient ID': 'str'})\n",
    "df4 = pd.read_csv('facs/Baseline/Panel4_Baseline.csv', sep = ',', dtype = {'Patient ID': 'str'})\n",
    "df5 = pd.read_csv('facs/Baseline/Panel5_Baseline.csv', sep = ',', dtype = {'Patient ID': 'str'})\n",
    "df1.iloc[:,1:-9] = df1.iloc[:,1:-9].apply(pd.to_numeric)\n",
    "df1 = df1.drop(columns = ['Azim data.SUBJID'])\n",
    "df2.iloc[:, 1:] = df2.iloc[:, 1:].apply(pd.to_numeric)\n",
    "df3.iloc[:, 1:] = df3.iloc[:, 1:].apply(pd.to_numeric)\n",
    "df4.iloc[:, 1:] = df4.iloc[:, 1:].apply(pd.to_numeric)\n",
    "df5.iloc[:, 1:] = df5.iloc[:, 1:].apply(pd.to_numeric)\n",
    "\n",
    "dfs = [df1, df2, df3, df4, df5]\n",
    "new_dfs = [df1.copy(), df2.copy(), df3.copy(), df4.copy(), df5.copy()]\n",
    "for i in range(5):\n",
    "    new_columns = [dfs[i].columns[0]] + [col + '_panel' + str(i+1) for col in dfs[i].columns[1:]]\n",
    "    new_dfs[i].columns = new_columns\n",
    "tmp = pd.merge(new_dfs[0], new_dfs[1], on = 'Patient ID')\n",
    "tmp = pd.merge(tmp, new_dfs[2], on = 'Patient ID')\n",
    "tmp = pd.merge(tmp, new_dfs[3], on = 'Patient ID')\n",
    "df = pd.merge(tmp, new_dfs[4], on = 'Patient ID')\n",
    "df = df.dropna()\n",
    "# df['Patient ID'] = 'BOSON' + df['Patient ID']"
   ]
  },
  {
   "cell_type": "code",
   "execution_count": null,
   "id": "d02a50ec-92ee-4248-a12f-aa8b6f34ae8d",
   "metadata": {},
   "outputs": [],
   "source": []
  }
 ],
 "metadata": {
  "kernelspec": {
   "display_name": "Python 3 (ipykernel)",
   "language": "python",
   "name": "python3"
  },
  "language_info": {
   "codemirror_mode": {
    "name": "ipython",
    "version": 3
   },
   "file_extension": ".py",
   "mimetype": "text/x-python",
   "name": "python",
   "nbconvert_exporter": "python",
   "pygments_lexer": "ipython3",
   "version": "3.11.0"
  },
  "latex_envs": {
   "LaTeX_envs_menu_present": true,
   "autoclose": false,
   "autocomplete": true,
   "bibliofile": "biblio.bib",
   "cite_by": "apalike",
   "current_citInitial": 1,
   "eqLabelWithNumbers": true,
   "eqNumInitial": 1,
   "hotkeys": {
    "equation": "Ctrl-E",
    "itemize": "Ctrl-I"
   },
   "labels_anchors": false,
   "latex_user_defs": false,
   "report_style_numbering": false,
   "user_envs_cfg": false
  },
  "toc": {
   "base_numbering": 1,
   "nav_menu": {},
   "number_sections": true,
   "sideBar": true,
   "skip_h1_title": false,
   "title_cell": "Table of Contents",
   "title_sidebar": "Contents",
   "toc_cell": false,
   "toc_position": {},
   "toc_section_display": true,
   "toc_window_display": false
  }
 },
 "nbformat": 4,
 "nbformat_minor": 5
}
